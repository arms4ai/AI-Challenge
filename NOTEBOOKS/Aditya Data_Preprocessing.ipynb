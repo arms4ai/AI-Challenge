pip install rasterio

import os
import numpy as np
from osgeo import gdal, gdal_array
import rasterio
import geopandas as gpd
import pandas as pd
import operator
import gc

from google.colab import drive
drive.mount('/content/drive')

Mounted at /content/drive

ref_path = '/content/drive/MyDrive/BachelorThesis/Delhi_LULC.tiff'
roi_ds = gdal.Open(ref_path, gdal.GA_ReadOnly)
roi = roi_ds.GetRasterBand(1).ReadAsArray()

classes = np.unique(roi)

dict = {}
for c in classes:
    dict[c] = (roi == c).sum()
sorted_x = sorted(dict.items(), key = operator.itemgetter(1))
print("Top 6 classes and pixel counts \n",sorted_x[-6:])

Top 6 classes and pixel counts 
 [(1.0, 14267), (5.0, 31983), (11.0, 44135), (-3.4028235e+38, 65137), (2.0, 145524), (7.0, 1789049)]

###SUBTASK
# Select top  5 classes. Exclude 255 and float class labels
valid_classes = [c for c in classes if c != 255 and isinstance(c, (int, np.integer))]

# Calculate pixel counts for each class
class_counts = {c: (roi == c).sum() for c in valid_classes}

# Select top 5 classes based on pixel counts
sorted_class_counts = sorted(class_counts.items(), key=operator.itemgetter(1), reverse=True)
top_classes = [c[0] for c in sorted_class_counts[:5]]

print("Top 5 classes and pixel counts \n", sorted_class_counts[:5])

Top 5 classes and pixel counts 
 []

# Find how many non-zero entries we have -- i.e. how many training data samples?
n_samples = (roi > 0).sum()
print('We have {n} samples'.format(n=n_samples))

# What are our classification labels?
labels = np.unique(roi[roi > 0])
print('The training data include {n} classes: {classes}'.format(n=labels.size,
                                                                classes=labels))

#X = img_b1[roi > 0, :]
y = roi[roi > 0]

We have 2025250 samples
The training data include 7 classes: [ 1.  2.  4.  5.  7.  8. 11.]

#paths to bands images
images = ['path to image 1',
          'path to image 2',
          'path to image 3',
          'path to image 4',
          'path to image 5',
          'path to image 6',
          'path to image 7',
          'path to image 8',
          'path to image 9',
          'path to image 10',
          'path to image 11']

final = pd.DataFrame()

for c in top_classes:
    temp = pd.DataFrame()
    print(c)
    for img in images:
        train_ds = gdal.Open(img, gdal.GA_ReadOnly)
        print(train_ds.RasterXSize,train_ds.RasterYSize)
        img_b1 = np.zeros((train_ds.RasterYSize, train_ds.RasterXSize, train_ds.RasterCount),
                       gdal_array.GDALTypeCodeToNumericTypeCode(train_ds.GetRasterBand(1).DataType))
        for b in range(img_b1.shape[2]):
            img_b1[:, :, b] = train_ds.GetRasterBand(b + 1).ReadAsArray()
        print(img_b1.shape)
        Xt = img_b1[roi==c, :]
        Xt1 = pd.DataFrame(Xt)

        ###SUBTASK
        # Decide sampling number based on pixels present of each class. Default is 100000.
        Xt2 = Xt1.sample(n = 100000)

        Xt2.reset_index(drop = True, inplace = True)
        temp = pd.concat([Xt2, temp], axis = 1)
        temp["class"] = c

    final = pd.concat([temp, final], axis=0)
    final.reset_index(drop = True, inplace = True)

    gc.collect()
    final

### SUBTASK
# Write a loop in the space given to change the column names to 'col_1', 'col_2', 'col_3', etc

# Write a loop to change the column names
new_column_names = ['col_' + str(i) for i in range(1, final.shape[1])]
final.columns = new_column_names

# Display the updated DataFrame
final.head()

csv_path = 'path to csv training file'
final.to_csv(csv_path, index = False)



