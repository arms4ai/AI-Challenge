{
 "cells": [
  {
   "cell_type": "code",
   "execution_count": null,
   "metadata": {
    "scrolled": true
   },
   "outputs": [],
   "source": [
    "import os\n",
    "import numpy as np\n",
    "from osgeo import gdal, gdal_array\n",
    "import rasterio\n",
    "import geopandas as gpd\n",
    "import pandas as pd\n",
    "import operator\n",
    "import gc"
   ]
  },
  {
   "cell_type": "code",
   "execution_count": null,
   "metadata": {},
   "outputs": [],
   "source": [
    "ref_path = 'path to reference map of LULC'\n",
    "roi_ds = gdal.Open(ref_path, gdal.GA_ReadOnly)\n",
    "roi = roi_ds.GetRasterBand(1).ReadAsArray()\n",
    "\n",
    "classes = np.unique(roi)"
   ]
  },
  {
   "cell_type": "code",
   "execution_count": null,
   "metadata": {},
   "outputs": [],
   "source": [
    "dict = {}\n",
    "for c in classes:\n",
    "    dict[c] = (roi == c).sum()\n",
    "sorted_x = sorted(dict.items(), key = operator.itemgetter(1))\n",
    "print(\"Top 6 classes and pixel counts \\n\",sorted_x[-6:])"
   ]
  },
  {
   "cell_type": "code",
   "execution_count": null,
   "metadata": {},
   "outputs": [],
   "source": [
    "###SUBTASK\n",
    "# Select top  5 classes. Exclude 0, 255 and floating point class labels\n",
    "\n",
    "top_classes = []"
   ]
  },
  {
   "cell_type": "code",
   "execution_count": null,
   "metadata": {},
   "outputs": [],
   "source": [
    "n_samples = (roi > 0).sum()\n",
    "print('We have {n} samples'.format(n=n_samples))\n",
    "\n",
    "labels = np.unique(roi[roi > 0])\n",
    "print('The training data include {n} classes: {classes}'.format(n=labels.size, \n",
    "                                                                classes=labels)) \n",
    "y = roi[roi > 0]"
   ]
  },
  {
   "cell_type": "code",
   "execution_count": null,
   "metadata": {},
   "outputs": [],
   "source": [
    "#paths to bands images\n",
    "images = ['path to image 1',\n",
    "          'path to image 2',\n",
    "          'path to image 3',\n",
    "          ....,\n",
    "          ....,\n",
    "          'path to image n']"
   ]
  },
  {
   "cell_type": "code",
   "execution_count": null,
   "metadata": {
    "scrolled": true
   },
   "outputs": [],
   "source": [
    "final = pd.DataFrame()\n",
    "\n",
    "for c in top_classes:\n",
    "    temp = pd.DataFrame()\n",
    "    print(c)\n",
    "    for img in images:\n",
    "        train_ds = gdal.Open(img, gdal.GA_ReadOnly)\n",
    "        print(train_ds.RasterXSize,train_ds.RasterYSize)\n",
    "        img_b1 = np.zeros((train_ds.RasterYSize, train_ds.RasterXSize, train_ds.RasterCount),\n",
    "                       gdal_array.GDALTypeCodeToNumericTypeCode(train_ds.GetRasterBand(1).DataType))\n",
    "        for b in range(img_b1.shape[2]):\n",
    "            img_b1[:, :, b] = train_ds.GetRasterBand(b + 1).ReadAsArray()\n",
    "        print(img_b1.shape)\n",
    "        Xt = img_b1[roi==c, :] \n",
    "        Xt1 = pd.DataFrame(Xt)\n",
    "\n",
    "        ###SUBTASK\n",
    "        # Decide sampling number based on pixels present of each class. Default is 100000.\n",
    "        Xt2 = Xt1.sample(n = 100000)\n",
    "\n",
    "        Xt2.reset_index(drop = True, inplace = True)\n",
    "        temp = pd.concat([Xt2, temp], axis = 1)\n",
    "        temp[\"class\"] = c\n",
    "      \n",
    "    final = pd.concat([temp, final], axis=0)\n",
    "    final.reset_index(drop = True, inplace = True)\n",
    "    \n",
    "    gc.collect()\n",
    "    final"
   ]
  },
  {
   "cell_type": "code",
   "execution_count": null,
   "metadata": {},
   "outputs": [],
   "source": [
    "### SUBTASK\n",
    "# Write a loop in the space given to change the column names to 'col_1', 'col_2', 'col_3', etc\n",
    "\n",
    "\"\"\"\"\"\"\n",
    "\n",
    "\"\"\"\"\"\"\n",
    "\n",
    "final.head()"
   ]
  },
  {
   "cell_type": "code",
   "execution_count": null,
   "metadata": {},
   "outputs": [],
   "source": [
    "csv_path = 'path to csv training file'\n",
    "final.to_csv(csv_path, index = False)"
   ]
  }
 ],
 "metadata": {
  "kernelspec": {
   "display_name": "Python 3",
   "language": "python",
   "name": "python3"
  },
  "language_info": {
   "codemirror_mode": {
    "name": "ipython",
    "version": 3
   },
   "file_extension": ".py",
   "mimetype": "text/x-python",
   "name": "python",
   "nbconvert_exporter": "python",
   "pygments_lexer": "ipython3",
   "version": "3.10.13"
  }
 },
 "nbformat": 4,
 "nbformat_minor": 2
}
