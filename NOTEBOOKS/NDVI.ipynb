{
 "cells": [
  {
   "cell_type": "code",
   "execution_count": null,
   "metadata": {
    "scrolled": true
   },
   "outputs": [],
   "source": [
    "import os\n",
    "from os import path\n",
    "from __future__ import print_function, division\n",
    "from sklearn.model_selection import cross_val_score\n",
    "from sklearn.model_selection import KFold\n",
    "from sklearn.preprocessing import LabelEncoder\n",
    "from sklearn.pipeline import Pipeline\n",
    "from sklearn.model_selection import train_test_split\n",
    "import pandas as pd\n",
    "from osgeo import gdal, gdal_array\n",
    "import numpy as np\n",
    "\n",
    "# Tell GDAL to throw Python exceptions, and register all drivers\n",
    "gdal.UseExceptions()\n",
    "gdal.AllRegister()"
   ]
  },
  {
   "cell_type": "code",
   "execution_count": null,
   "metadata": {},
   "outputs": [],
   "source": [
    "import matplotlib.pyplot as plt\n",
    "%matplotlib inline\n",
    "plt.rcParams['figure.figsize'] = [15, 15]"
   ]
  },
  {
   "cell_type": "code",
   "execution_count": null,
   "metadata": {},
   "outputs": [],
   "source": [
    "img_ds = gdal.Open('path to any band image', gdal.GA_ReadOnly)\n",
    "roi_ds = gdal.Open('path to reference map of LULC', gdal.GA_ReadOnly)\n",
    "\n",
    "img = np.zeros((img_ds.RasterYSize, img_ds.RasterXSize, img_ds.RasterCount),\n",
    "               gdal_array.GDALTypeCodeToNumericTypeCode(img_ds.GetRasterBand(1).DataType))\n",
    "\n",
    "for b in range(img.shape[2]):\n",
    "    img[:, :, b] = img_ds.GetRasterBand(b + 1).ReadAsArray()\n",
    "\n",
    "roi = roi_ds.GetRasterBand(1).ReadAsArray().astype(np.uint8)\n",
    "\n",
    "### SUBTASK\n",
    "# Write a code to display all the bands of img_ds and roi_ds"
   ]
  },
  {
   "cell_type": "code",
   "execution_count": null,
   "metadata": {},
   "outputs": [],
   "source": [
    "#band and size info\n",
    "img.shape,roi.shape"
   ]
  },
  {
   "cell_type": "code",
   "execution_count": null,
   "metadata": {},
   "outputs": [],
   "source": [
    "classes = np.unique(roi)\n",
    "for c in classes:\n",
    "    print('Class {c} contains {n} pixels'.format(c=c,\n",
    "                                                 n=(roi == c).sum()))"
   ]
  },
  {
   "cell_type": "code",
   "execution_count": null,
   "metadata": {},
   "outputs": [],
   "source": [
    "###SUBTASK\n",
    "# Select top  5 classes. Exclude 255 and float class labels\n",
    "top_classes = []"
   ]
  },
  {
   "cell_type": "code",
   "execution_count": null,
   "metadata": {},
   "outputs": [],
   "source": [
    "n_samples = (roi > 0).sum()\n",
    "print('We have {n} samples'.format(n=n_samples))\n",
    "\n",
    "labels = np.unique(roi[roi > 0])\n",
    "print('The training data include {n} classes: {classes}'.format(n=labels.size, \n",
    "                                                                classes=labels))\n",
    "y = roi[roi > 0]\n",
    "print('Our y array is sized: {sz}'.format(sz=y.shape))"
   ]
  },
  {
   "cell_type": "code",
   "execution_count": null,
   "metadata": {},
   "outputs": [],
   "source": [
    "csv_path = 'path to training csv file'\n",
    "final = pd.read_csv(csv_path)"
   ]
  },
  {
   "cell_type": "code",
   "execution_count": null,
   "metadata": {},
   "outputs": [],
   "source": [
    "from sklearn.model_selection import train_test_split\n",
    "X = final.iloc[:,:-1]\n",
    "y = final.iloc[:,-1]\n",
    "X_train, X_test, y_train, y_test = train_test_split(X, y, test_size = 0.33, random_state = 42)"
   ]
  },
  {
   "cell_type": "code",
   "execution_count": null,
   "metadata": {},
   "outputs": [],
   "source": [
    "X_train.shape, y_train.shape"
   ]
  },
  {
   "cell_type": "code",
   "execution_count": null,
   "metadata": {},
   "outputs": [],
   "source": [
    "X_test.shape, y_test.shape"
   ]
  },
  {
   "cell_type": "code",
   "execution_count": null,
   "metadata": {},
   "outputs": [],
   "source": [
    "a = final.iloc[:,:25]\n",
    "b = final['col_25']\n",
    "y_final = final['col_25']\n",
    "C = pd.concat([a,b], axis = 1)\n",
    "C.shape, a.shape, b.shape"
   ]
  },
  {
   "cell_type": "code",
   "execution_count": null,
   "metadata": {},
   "outputs": [],
   "source": [
    "C.head()"
   ]
  },
  {
   "cell_type": "code",
   "execution_count": null,
   "metadata": {},
   "outputs": [],
   "source": [
    "mul = [i*5 for i in list(range(6))]\n",
    "mul"
   ]
  },
  {
   "cell_type": "code",
   "execution_count": null,
   "metadata": {},
   "outputs": [],
   "source": [
    "ndvi_df = pd.DataFrame(pd.Series(C.iloc[:, -1]))\n",
    "i = 0\n",
    "for m in mul[:-1]:\n",
    "    print(\"printing for t_\", i)\n",
    "    print(a.iloc[:,0+m:5+m].head(5))\n",
    "    temp = a.iloc[:,0+m:5+m]\n",
    "\n",
    "    ###SUBTASK\n",
    "    # Write code for the formula of NDVI, NDWI and EVI\n",
    "    # NDVI = (band_8 - band_4) / (band_8 + band_4)\n",
    "    # NDWI = (band_3 - band_8) / (band_3 + band_8)\n",
    "    # EVI = (2.5 * (band_8 - band_4)) / (band_8 + (6 * band_4) - (7.5 * band_2) + 1)\n",
    "    ndvi =\n",
    "    ndwi = \n",
    "    evi =  \n",
    "\n",
    "    Xt1 = pd.DataFrame(ndvi)\n",
    "    Xt1.columns = [\"t_\" + str(i)]\n",
    "    ndvi_df = pd.concat([Xt1, ndvi_df], axis = 1)\n",
    "    print(ndvi_df.shape)\n",
    "    print(\"------------------------------\")\n",
    "    i += 1"
   ]
  },
  {
   "cell_type": "code",
   "execution_count": null,
   "metadata": {},
   "outputs": [],
   "source": [
    "ndvi_df.head()"
   ]
  },
  {
   "cell_type": "code",
   "execution_count": null,
   "metadata": {},
   "outputs": [],
   "source": [
    "ndvi_df.shape"
   ]
  },
  {
   "cell_type": "code",
   "execution_count": null,
   "metadata": {},
   "outputs": [],
   "source": [
    "ndvi_df.columns"
   ]
  },
  {
   "cell_type": "code",
   "execution_count": null,
   "metadata": {},
   "outputs": [],
   "source": [
    "c1 = pd.DataFrame(np.mean(ndvi_df.loc[ndvi_df['col_25']==7,['t_4', 't_3', 't_2', 't_1', 't_0']],axis=0))\n",
    "c2 = pd.DataFrame(np.mean(ndvi_df.loc[ndvi_df['col_25']==2,['t_4', 't_3', 't_2', 't_1', 't_0']],axis=0))\n",
    "c3 = pd.DataFrame(np.mean(ndvi_df.loc[ndvi_df['col_25']==11, ['t_4', 't_3', 't_2', 't_1', 't_0']], axis=0))\n",
    "c4 = pd.DataFrame(np.mean(ndvi_df.loc[ndvi_df['col_25']==5,['t_4', 't_3', 't_2', 't_1', 't_0']],axis=0))\n",
    "c5 = pd.DataFrame(np.mean(ndvi_df.loc[ndvi_df['col_25']==1,['t_4', 't_3', 't_2', 't_1', 't_0']],axis=0))"
   ]
  },
  {
   "cell_type": "code",
   "execution_count": null,
   "metadata": {},
   "outputs": [],
   "source": [
    "import matplotlib.pyplot as plt\n",
    "%matplotlib inline\n",
    "\n",
    "plt.plot(c1.index,c1.iloc[:,0],color='r')\n",
    "plt.plot(c2.index,c2.iloc[:,0],color='g')\n",
    "plt.plot(c3.index,c3.iloc[:,0],color='m')\n",
    "plt.plot(c4.index,c4.iloc[:,0],color='b')\n",
    "plt.plot(c5.index,c5.iloc[:,0],color='y')\n",
    "\n",
    "ndvi_df['avg_ndvi'] = np.mean(ndvi_df,axis=1)\n",
    "\n",
    "pd.pivot_table(ndvi_df,index=[\"col_25\"],values = ['avg_ndvi'] ,aggfunc=np.mean)\n",
    "\n",
    "ndvi_df.head(20)"
   ]
  }
 ],
 "metadata": {
  "kernelspec": {
   "display_name": "Python 3",
   "language": "python",
   "name": "python3"
  },
  "language_info": {
   "codemirror_mode": {
    "name": "ipython",
    "version": 3
   },
   "file_extension": ".py",
   "mimetype": "text/x-python",
   "name": "python",
   "nbconvert_exporter": "python",
   "pygments_lexer": "ipython3",
   "version": "3.10.13"
  }
 },
 "nbformat": 4,
 "nbformat_minor": 2
}
